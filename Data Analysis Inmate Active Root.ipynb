{
 "cells": [
  {
   "cell_type": "code",
   "execution_count": 6,
   "metadata": {},
   "outputs": [],
   "source": [
    "import pandas as pd\n",
    "import numpy as np\n",
    "import matplotlib as mpl\n",
    "from datetime import datetime\n",
    "import plotly\n",
    "plotly.tools.set_credentials_file(username='bzjin', api_key='jmaLQFWVMgugFAITZZBC')\n",
    "import plotly.plotly as py\n",
    "import plotly.graph_objs as go"
   ]
  },
  {
   "cell_type": "code",
   "execution_count": 7,
   "metadata": {},
   "outputs": [
    {
     "name": "stderr",
     "output_type": "stream",
     "text": [
      "/Users/bzjin/anaconda3/lib/python3.6/site-packages/IPython/core/interactiveshell.py:2698: DtypeWarning:\n",
      "\n",
      "Columns (0) have mixed types. Specify dtype option on import or set low_memory=False.\n",
      "\n"
     ]
    },
    {
     "data": {
      "text/html": [
       "<div>\n",
       "<style>\n",
       "    .dataframe thead tr:only-child th {\n",
       "        text-align: right;\n",
       "    }\n",
       "\n",
       "    .dataframe thead th {\n",
       "        text-align: left;\n",
       "    }\n",
       "\n",
       "    .dataframe tbody tr th {\n",
       "        vertical-align: top;\n",
       "    }\n",
       "</style>\n",
       "<table border=\"1\" class=\"dataframe\">\n",
       "  <thead>\n",
       "    <tr style=\"text-align: right;\">\n",
       "      <th></th>\n",
       "      <th>DCNumber</th>\n",
       "      <th>LastName</th>\n",
       "      <th>FirstName</th>\n",
       "      <th>MiddleName</th>\n",
       "      <th>NameSuffix</th>\n",
       "      <th>Race</th>\n",
       "      <th>Sex</th>\n",
       "      <th>BirthDate</th>\n",
       "      <th>HairColor</th>\n",
       "      <th>EyeColor</th>\n",
       "      <th>Height</th>\n",
       "      <th>Weight</th>\n",
       "      <th>PrisonReleaseDate</th>\n",
       "      <th>ReceiptDate</th>\n",
       "      <th>releasedateflag_descr</th>\n",
       "      <th>custody_description</th>\n",
       "      <th>FACILITY_description</th>\n",
       "    </tr>\n",
       "  </thead>\n",
       "  <tbody>\n",
       "    <tr>\n",
       "      <th>0</th>\n",
       "      <td>47880</td>\n",
       "      <td>MARTIN</td>\n",
       "      <td>WILLARD</td>\n",
       "      <td>NaN</td>\n",
       "      <td>NaN</td>\n",
       "      <td>W</td>\n",
       "      <td>M</td>\n",
       "      <td>06/17/15 00:00:00</td>\n",
       "      <td>BLN</td>\n",
       "      <td>BLU</td>\n",
       "      <td>507.0</td>\n",
       "      <td>151.0</td>\n",
       "      <td>02/19/55 00:00:00</td>\n",
       "      <td>02/12/51 00:00:00</td>\n",
       "      <td>valid release date</td>\n",
       "      <td>NaN</td>\n",
       "      <td>UNION C.I.</td>\n",
       "    </tr>\n",
       "    <tr>\n",
       "      <th>1</th>\n",
       "      <td>53946</td>\n",
       "      <td>MEARNS</td>\n",
       "      <td>WILLIAM</td>\n",
       "      <td>W</td>\n",
       "      <td>NaN</td>\n",
       "      <td>W</td>\n",
       "      <td>M</td>\n",
       "      <td>06/01/22 00:00:00</td>\n",
       "      <td>BLK</td>\n",
       "      <td>BRO</td>\n",
       "      <td>507.0</td>\n",
       "      <td>153.0</td>\n",
       "      <td>06/13/65 00:00:00</td>\n",
       "      <td>11/27/54 00:00:00</td>\n",
       "      <td>valid release date</td>\n",
       "      <td>NaN</td>\n",
       "      <td>CENTRAL OFFICE</td>\n",
       "    </tr>\n",
       "    <tr>\n",
       "      <th>2</th>\n",
       "      <td>56050</td>\n",
       "      <td>CARVER</td>\n",
       "      <td>JESSIE</td>\n",
       "      <td>NaN</td>\n",
       "      <td>NaN</td>\n",
       "      <td>B</td>\n",
       "      <td>M</td>\n",
       "      <td>10/16/32 00:00:00</td>\n",
       "      <td>BLK</td>\n",
       "      <td>BRO</td>\n",
       "      <td>510.0</td>\n",
       "      <td>NaN</td>\n",
       "      <td>03/20/07 00:00:00</td>\n",
       "      <td>10/31/55 00:00:00</td>\n",
       "      <td>valid release date</td>\n",
       "      <td>NaN</td>\n",
       "      <td>CENTRAL OFFICE</td>\n",
       "    </tr>\n",
       "    <tr>\n",
       "      <th>3</th>\n",
       "      <td>000001</td>\n",
       "      <td>WHITNEY</td>\n",
       "      <td>DENNIS</td>\n",
       "      <td>NaN</td>\n",
       "      <td>NaN</td>\n",
       "      <td>W</td>\n",
       "      <td>M</td>\n",
       "      <td>08/15/42 00:00:00</td>\n",
       "      <td>GRY</td>\n",
       "      <td>HAZ</td>\n",
       "      <td>508.0</td>\n",
       "      <td>222.0</td>\n",
       "      <td>04/24/05 00:00:00</td>\n",
       "      <td>07/01/60 00:00:00</td>\n",
       "      <td>deceased</td>\n",
       "      <td>CLOSE</td>\n",
       "      <td>UNKNOWN-2</td>\n",
       "    </tr>\n",
       "    <tr>\n",
       "      <th>4</th>\n",
       "      <td>000004</td>\n",
       "      <td>ROBBINS</td>\n",
       "      <td>WAYNE</td>\n",
       "      <td>NaN</td>\n",
       "      <td>NaN</td>\n",
       "      <td>W</td>\n",
       "      <td>M</td>\n",
       "      <td>01/13/69 00:00:00</td>\n",
       "      <td>BRO</td>\n",
       "      <td>GRN</td>\n",
       "      <td>508.0</td>\n",
       "      <td>160.0</td>\n",
       "      <td>12/11/97 00:00:00</td>\n",
       "      <td>10/25/95 00:00:00</td>\n",
       "      <td>valid release date</td>\n",
       "      <td>MINIMUM</td>\n",
       "      <td>PANAMA CITY C.R.C.</td>\n",
       "    </tr>\n",
       "  </tbody>\n",
       "</table>\n",
       "</div>"
      ],
      "text/plain": [
       "  DCNumber LastName FirstName MiddleName NameSuffix Race Sex  \\\n",
       "0    47880   MARTIN   WILLARD        NaN        NaN    W   M   \n",
       "1    53946   MEARNS   WILLIAM          W        NaN    W   M   \n",
       "2    56050   CARVER    JESSIE        NaN        NaN    B   M   \n",
       "3   000001  WHITNEY    DENNIS        NaN        NaN    W   M   \n",
       "4   000004  ROBBINS     WAYNE        NaN        NaN    W   M   \n",
       "\n",
       "           BirthDate HairColor EyeColor  Height  Weight  PrisonReleaseDate  \\\n",
       "0  06/17/15 00:00:00       BLN      BLU   507.0   151.0  02/19/55 00:00:00   \n",
       "1  06/01/22 00:00:00       BLK      BRO   507.0   153.0  06/13/65 00:00:00   \n",
       "2  10/16/32 00:00:00       BLK      BRO   510.0     NaN  03/20/07 00:00:00   \n",
       "3  08/15/42 00:00:00       GRY      HAZ   508.0   222.0  04/24/05 00:00:00   \n",
       "4  01/13/69 00:00:00       BRO      GRN   508.0   160.0  12/11/97 00:00:00   \n",
       "\n",
       "         ReceiptDate releasedateflag_descr custody_description  \\\n",
       "0  02/12/51 00:00:00    valid release date                 NaN   \n",
       "1  11/27/54 00:00:00    valid release date                 NaN   \n",
       "2  10/31/55 00:00:00    valid release date                 NaN   \n",
       "3  07/01/60 00:00:00              deceased               CLOSE   \n",
       "4  10/25/95 00:00:00    valid release date             MINIMUM   \n",
       "\n",
       "  FACILITY_description  \n",
       "0           UNION C.I.  \n",
       "1       CENTRAL OFFICE  \n",
       "2       CENTRAL OFFICE  \n",
       "3            UNKNOWN-2  \n",
       "4   PANAMA CITY C.R.C.  "
      ]
     },
     "execution_count": 7,
     "metadata": {},
     "output_type": "execute_result"
    }
   ],
   "source": [
    "# \"inmate_release_root.csv\" has 371,553 rows x 17 columns\n",
    "reviews = pd.read_csv(\"inmate_release_root.csv\")\n",
    "\n",
    "# first 1000 inmates data\n",
    "first = reviews.iloc[0:1000,:]\n",
    "reviews.head()"
   ]
  },
  {
   "cell_type": "code",
   "execution_count": 8,
   "metadata": {},
   "outputs": [
    {
     "data": {
      "text/html": [
       "<div>\n",
       "<style>\n",
       "    .dataframe thead tr:only-child th {\n",
       "        text-align: right;\n",
       "    }\n",
       "\n",
       "    .dataframe thead th {\n",
       "        text-align: left;\n",
       "    }\n",
       "\n",
       "    .dataframe tbody tr th {\n",
       "        vertical-align: top;\n",
       "    }\n",
       "</style>\n",
       "<table border=\"1\" class=\"dataframe\">\n",
       "  <thead>\n",
       "    <tr style=\"text-align: right;\">\n",
       "      <th></th>\n",
       "      <th>0</th>\n",
       "      <th>1</th>\n",
       "      <th>2</th>\n",
       "      <th>3</th>\n",
       "      <th>4</th>\n",
       "      <th>5</th>\n",
       "      <th>6</th>\n",
       "      <th>7</th>\n",
       "      <th>8</th>\n",
       "      <th>9</th>\n",
       "      <th>...</th>\n",
       "      <th>990</th>\n",
       "      <th>991</th>\n",
       "      <th>992</th>\n",
       "      <th>993</th>\n",
       "      <th>994</th>\n",
       "      <th>995</th>\n",
       "      <th>996</th>\n",
       "      <th>997</th>\n",
       "      <th>998</th>\n",
       "      <th>999</th>\n",
       "    </tr>\n",
       "  </thead>\n",
       "  <tbody>\n",
       "    <tr>\n",
       "      <th>PrisonReleaseDate</th>\n",
       "      <td>02/19/55 00:00:00</td>\n",
       "      <td>06/13/65 00:00:00</td>\n",
       "      <td>03/20/07 00:00:00</td>\n",
       "      <td>04/24/05 00:00:00</td>\n",
       "      <td>12/11/97 00:00:00</td>\n",
       "      <td>02/25/99 00:00:00</td>\n",
       "      <td>04/25/11 00:00:00</td>\n",
       "      <td>12/09/14 00:00:00</td>\n",
       "      <td>10/30/06 00:00:00</td>\n",
       "      <td>05/06/01 00:00:00</td>\n",
       "      <td>...</td>\n",
       "      <td>06/14/05 00:00:00</td>\n",
       "      <td>08/30/01 00:00:00</td>\n",
       "      <td>12/15/07 00:00:00</td>\n",
       "      <td>09/07/05 00:00:00</td>\n",
       "      <td>03/28/11 00:00:00</td>\n",
       "      <td>02/20/04 00:00:00</td>\n",
       "      <td>05/19/11 00:00:00</td>\n",
       "      <td>03/02/03 00:00:00</td>\n",
       "      <td>10/07/97 00:00:00</td>\n",
       "      <td>12/05/07 00:00:00</td>\n",
       "    </tr>\n",
       "    <tr>\n",
       "      <th>ReceiptDate</th>\n",
       "      <td>02/12/51 00:00:00</td>\n",
       "      <td>11/27/54 00:00:00</td>\n",
       "      <td>10/31/55 00:00:00</td>\n",
       "      <td>07/01/60 00:00:00</td>\n",
       "      <td>10/25/95 00:00:00</td>\n",
       "      <td>04/03/92 00:00:00</td>\n",
       "      <td>07/13/71 00:00:00</td>\n",
       "      <td>08/17/82 00:00:00</td>\n",
       "      <td>04/19/05 00:00:00</td>\n",
       "      <td>03/08/00 00:00:00</td>\n",
       "      <td>...</td>\n",
       "      <td>07/27/73 00:00:00</td>\n",
       "      <td>10/18/99 00:00:00</td>\n",
       "      <td>03/26/68 00:00:00</td>\n",
       "      <td>11/18/92 00:00:00</td>\n",
       "      <td>12/08/75 00:00:00</td>\n",
       "      <td>12/01/83 00:00:00</td>\n",
       "      <td>02/26/07 00:00:00</td>\n",
       "      <td>06/18/01 00:00:00</td>\n",
       "      <td>02/24/97 00:00:00</td>\n",
       "      <td>05/03/07 00:00:00</td>\n",
       "    </tr>\n",
       "  </tbody>\n",
       "</table>\n",
       "<p>2 rows × 1000 columns</p>\n",
       "</div>"
      ],
      "text/plain": [
       "                                 0                  1                  2    \\\n",
       "PrisonReleaseDate  02/19/55 00:00:00  06/13/65 00:00:00  03/20/07 00:00:00   \n",
       "ReceiptDate        02/12/51 00:00:00  11/27/54 00:00:00  10/31/55 00:00:00   \n",
       "\n",
       "                                 3                  4                  5    \\\n",
       "PrisonReleaseDate  04/24/05 00:00:00  12/11/97 00:00:00  02/25/99 00:00:00   \n",
       "ReceiptDate        07/01/60 00:00:00  10/25/95 00:00:00  04/03/92 00:00:00   \n",
       "\n",
       "                                 6                  7                  8    \\\n",
       "PrisonReleaseDate  04/25/11 00:00:00  12/09/14 00:00:00  10/30/06 00:00:00   \n",
       "ReceiptDate        07/13/71 00:00:00  08/17/82 00:00:00  04/19/05 00:00:00   \n",
       "\n",
       "                                 9          ...                        990  \\\n",
       "PrisonReleaseDate  05/06/01 00:00:00        ...          06/14/05 00:00:00   \n",
       "ReceiptDate        03/08/00 00:00:00        ...          07/27/73 00:00:00   \n",
       "\n",
       "                                 991                992                993  \\\n",
       "PrisonReleaseDate  08/30/01 00:00:00  12/15/07 00:00:00  09/07/05 00:00:00   \n",
       "ReceiptDate        10/18/99 00:00:00  03/26/68 00:00:00  11/18/92 00:00:00   \n",
       "\n",
       "                                 994                995                996  \\\n",
       "PrisonReleaseDate  03/28/11 00:00:00  02/20/04 00:00:00  05/19/11 00:00:00   \n",
       "ReceiptDate        12/08/75 00:00:00  12/01/83 00:00:00  02/26/07 00:00:00   \n",
       "\n",
       "                                 997                998                999  \n",
       "PrisonReleaseDate  03/02/03 00:00:00  10/07/97 00:00:00  12/05/07 00:00:00  \n",
       "ReceiptDate        06/18/01 00:00:00  02/24/97 00:00:00  05/03/07 00:00:00  \n",
       "\n",
       "[2 rows x 1000 columns]"
      ]
     },
     "execution_count": 8,
     "metadata": {},
     "output_type": "execute_result"
    }
   ],
   "source": [
    "pd.DataFrame([first[\"PrisonReleaseDate\"], first[\"ReceiptDate\"]])"
   ]
  },
  {
   "cell_type": "code",
   "execution_count": 22,
   "metadata": {},
   "outputs": [
    {
     "data": {
      "text/html": [
       "<iframe id=\"igraph\" scrolling=\"no\" style=\"border:none;\" seamless=\"seamless\" src=\"https://plot.ly/~bzjin/6.embed\" height=\"525px\" width=\"100%\"></iframe>"
      ],
      "text/plain": [
       "<plotly.tools.PlotlyDisplay object>"
      ]
     },
     "execution_count": 22,
     "metadata": {},
     "output_type": "execute_result"
    }
   ],
   "source": [
    "#Simple chart mapping height v. weight for learning-code purposes\n",
    "hw=[go.Scatter(x=first[\"Weight\"], y=first[\"Height\"], mode='markers')]\n",
    "py.iplot(hw, filename='basic-scatter')\n"
   ]
  },
  {
   "cell_type": "code",
   "execution_count": 25,
   "metadata": {},
   "outputs": [
    {
     "data": {
      "text/html": [
       "<iframe id=\"igraph\" scrolling=\"no\" style=\"border:none;\" seamless=\"seamless\" src=\"https://plot.ly/~bzjin/4.embed\" height=\"525px\" width=\"100%\"></iframe>"
      ],
      "text/plain": [
       "<plotly.tools.PlotlyDisplay object>"
      ]
     },
     "execution_count": 25,
     "metadata": {},
     "output_type": "execute_result"
    }
   ],
   "source": [
    "#Simple chart mapping eye color for learning-code purposes\n",
    "eyeSeries = pd.Series(first[\"EyeColor\"])\n",
    "eyeArray = np.array(eyeSeries, dtype=pd.Series)\n",
    "\n",
    "unique, counts = np.unique(eyeArray, return_counts=True)\n",
    "\n",
    "eyedata=[go.Bar(x=unique, y=counts)]\n",
    "py.iplot(eyedata, filename='basic-bar')"
   ]
  },
  {
   "cell_type": "code",
   "execution_count": 27,
   "metadata": {},
   "outputs": [
    {
     "data": {
      "text/html": [
       "<iframe id=\"igraph\" scrolling=\"no\" style=\"border:none;\" seamless=\"seamless\" src=\"https://plot.ly/~bzjin/4.embed\" height=\"525px\" width=\"100%\"></iframe>"
      ],
      "text/plain": [
       "<plotly.tools.PlotlyDisplay object>"
      ]
     },
     "execution_count": 27,
     "metadata": {},
     "output_type": "execute_result"
    }
   ],
   "source": [
    "#Simple chart mapping hair color for learning-code purposes\n",
    "hairSeries = pd.Series(first[\"HairColor\"])\n",
    "hairArray = np.array(hairSeries, dtype=pd.Series)\n",
    "\n",
    "unique, counts = np.unique(hairArray, return_counts=True)\n",
    "\n",
    "hairdata=[go.Bar(x=unique, y=counts)]\n",
    "py.iplot(hairdata, filename='basic-bar')"
   ]
  },
  {
   "cell_type": "code",
   "execution_count": 29,
   "metadata": {},
   "outputs": [
    {
     "data": {
      "text/html": [
       "<iframe id=\"igraph\" scrolling=\"no\" style=\"border:none;\" seamless=\"seamless\" src=\"https://plot.ly/~bzjin/6.embed\" height=\"525px\" width=\"100%\"></iframe>"
      ],
      "text/plain": [
       "<plotly.tools.PlotlyDisplay object>"
      ]
     },
     "execution_count": 29,
     "metadata": {},
     "output_type": "execute_result"
    }
   ],
   "source": [
    "releaseSeries = pd.Series(first[\"PrisonReleaseDate\"])\n",
    "releaseArray = np.array(releaseSeries, dtype=pd.Series)\n",
    "\n",
    "#unique values\n",
    "unique, counts = np.unique(releaseArray, return_counts=True)\n",
    "\n",
    "#dateArray = [datetime.strptime(x, '%m/%d/%y %H:%M:%S') for x in releaseArray]\n",
    "#dates = mpl.dates.date2num(dateArray)\n",
    "#mpl.pyplot.plot_date(dates)\n",
    "\n",
    "data=[go.Scatter(x=unique, y=counts, mode='markers')]\n",
    "py.iplot(data, filename='basic-scatter')"
   ]
  },
  {
   "cell_type": "code",
   "execution_count": null,
   "metadata": {
    "collapsed": true
   },
   "outputs": [],
   "source": []
  }
 ],
 "metadata": {
  "kernelspec": {
   "display_name": "Python 3",
   "language": "python",
   "name": "python3"
  },
  "language_info": {
   "codemirror_mode": {
    "name": "ipython",
    "version": 3
   },
   "file_extension": ".py",
   "mimetype": "text/x-python",
   "name": "python",
   "nbconvert_exporter": "python",
   "pygments_lexer": "ipython3",
   "version": "3.6.2"
  }
 },
 "nbformat": 4,
 "nbformat_minor": 2
}
