{
 "cells": [
  {
   "cell_type": "code",
   "execution_count": 2,
   "metadata": {
    "collapsed": true
   },
   "outputs": [],
   "source": [
    "import pandas as pd\n",
    "import numpy as np\n",
    "import matplotlib as mpl\n",
    "from datetime import datetime\n",
    "import plotly\n",
    "plotly.tools.set_credentials_file(username='bzjin', api_key='jmaLQFWVMgugFAITZZBC')\n",
    "import plotly.plotly as py\n",
    "import plotly.graph_objs as go"
   ]
  },
  {
   "cell_type": "code",
   "execution_count": 10,
   "metadata": {},
   "outputs": [
    {
     "data": {
      "text/html": [
       "<div>\n",
       "<style>\n",
       "    .dataframe thead tr:only-child th {\n",
       "        text-align: right;\n",
       "    }\n",
       "\n",
       "    .dataframe thead th {\n",
       "        text-align: left;\n",
       "    }\n",
       "\n",
       "    .dataframe tbody tr th {\n",
       "        vertical-align: top;\n",
       "    }\n",
       "</style>\n",
       "<table border=\"1\" class=\"dataframe\">\n",
       "  <thead>\n",
       "    <tr style=\"text-align: right;\">\n",
       "      <th></th>\n",
       "      <th>DCNumber</th>\n",
       "      <th>LastName</th>\n",
       "      <th>FirstName</th>\n",
       "      <th>MiddleName</th>\n",
       "      <th>NameSuffix</th>\n",
       "      <th>Race</th>\n",
       "      <th>Sex</th>\n",
       "      <th>BirthDate</th>\n",
       "      <th>HairColor</th>\n",
       "      <th>EyeColor</th>\n",
       "      <th>Height</th>\n",
       "      <th>Weight</th>\n",
       "      <th>PrisonReleaseDate</th>\n",
       "      <th>ReceiptDate</th>\n",
       "      <th>releasedateflag_descr</th>\n",
       "      <th>custody_description</th>\n",
       "      <th>FACILITY_description</th>\n",
       "    </tr>\n",
       "  </thead>\n",
       "  <tbody>\n",
       "    <tr>\n",
       "      <th>0</th>\n",
       "      <td>56050</td>\n",
       "      <td>CARVER</td>\n",
       "      <td>JESSIE</td>\n",
       "      <td>NaN</td>\n",
       "      <td>NaN</td>\n",
       "      <td>B</td>\n",
       "      <td>M</td>\n",
       "      <td>10/16/32 00:00</td>\n",
       "      <td>BLK</td>\n",
       "      <td>BRO</td>\n",
       "      <td>510.0</td>\n",
       "      <td>NaN</td>\n",
       "      <td>3/20/07 00:00</td>\n",
       "      <td>10/31/55 00:00</td>\n",
       "      <td>valid release date</td>\n",
       "      <td>NaN</td>\n",
       "      <td>CENTRAL OFFICE</td>\n",
       "    </tr>\n",
       "    <tr>\n",
       "      <th>1</th>\n",
       "      <td>1</td>\n",
       "      <td>WHITNEY</td>\n",
       "      <td>DENNIS</td>\n",
       "      <td>NaN</td>\n",
       "      <td>NaN</td>\n",
       "      <td>W</td>\n",
       "      <td>M</td>\n",
       "      <td>8/15/42 00:00</td>\n",
       "      <td>GRY</td>\n",
       "      <td>HAZ</td>\n",
       "      <td>508.0</td>\n",
       "      <td>222.0</td>\n",
       "      <td>4/24/05 00:00</td>\n",
       "      <td>7/1/60 00:00</td>\n",
       "      <td>deceased</td>\n",
       "      <td>CLOSE</td>\n",
       "      <td>UNKNOWN-2</td>\n",
       "    </tr>\n",
       "    <tr>\n",
       "      <th>2</th>\n",
       "      <td>4</td>\n",
       "      <td>ROBBINS</td>\n",
       "      <td>WAYNE</td>\n",
       "      <td>NaN</td>\n",
       "      <td>NaN</td>\n",
       "      <td>W</td>\n",
       "      <td>M</td>\n",
       "      <td>1/13/69 00:00</td>\n",
       "      <td>BRO</td>\n",
       "      <td>GRN</td>\n",
       "      <td>508.0</td>\n",
       "      <td>160.0</td>\n",
       "      <td>12/11/97 00:00</td>\n",
       "      <td>10/25/95 00:00</td>\n",
       "      <td>valid release date</td>\n",
       "      <td>MINIMUM</td>\n",
       "      <td>PANAMA CITY C.R.C.</td>\n",
       "    </tr>\n",
       "    <tr>\n",
       "      <th>3</th>\n",
       "      <td>22</td>\n",
       "      <td>SCHAFFER</td>\n",
       "      <td>DANIEL</td>\n",
       "      <td>NaN</td>\n",
       "      <td>NaN</td>\n",
       "      <td>W</td>\n",
       "      <td>M</td>\n",
       "      <td>12/26/43 00:00</td>\n",
       "      <td>GRY</td>\n",
       "      <td>HAZ</td>\n",
       "      <td>509.0</td>\n",
       "      <td>160.0</td>\n",
       "      <td>2/25/99 00:00</td>\n",
       "      <td>4/3/92 00:00</td>\n",
       "      <td>valid release date</td>\n",
       "      <td>MEDIUM</td>\n",
       "      <td>LAKE C.I.</td>\n",
       "    </tr>\n",
       "    <tr>\n",
       "      <th>4</th>\n",
       "      <td>38</td>\n",
       "      <td>BROWNING</td>\n",
       "      <td>HENRY</td>\n",
       "      <td>J</td>\n",
       "      <td>NaN</td>\n",
       "      <td>W</td>\n",
       "      <td>M</td>\n",
       "      <td>11/28/41 00:00</td>\n",
       "      <td>GRY</td>\n",
       "      <td>BLU</td>\n",
       "      <td>509.0</td>\n",
       "      <td>158.0</td>\n",
       "      <td>4/25/11 00:00</td>\n",
       "      <td>7/13/71 00:00</td>\n",
       "      <td>valid release date</td>\n",
       "      <td>MEDIUM</td>\n",
       "      <td>CFRC-MAIN</td>\n",
       "    </tr>\n",
       "  </tbody>\n",
       "</table>\n",
       "</div>"
      ],
      "text/plain": [
       "  DCNumber  LastName FirstName MiddleName NameSuffix Race Sex       BirthDate  \\\n",
       "0    56050    CARVER    JESSIE        NaN        NaN    B   M  10/16/32 00:00   \n",
       "1        1   WHITNEY    DENNIS        NaN        NaN    W   M   8/15/42 00:00   \n",
       "2        4   ROBBINS     WAYNE        NaN        NaN    W   M   1/13/69 00:00   \n",
       "3       22  SCHAFFER    DANIEL        NaN        NaN    W   M  12/26/43 00:00   \n",
       "4       38  BROWNING     HENRY          J        NaN    W   M  11/28/41 00:00   \n",
       "\n",
       "  HairColor EyeColor  Height  Weight PrisonReleaseDate     ReceiptDate  \\\n",
       "0       BLK      BRO   510.0     NaN     3/20/07 00:00  10/31/55 00:00   \n",
       "1       GRY      HAZ   508.0   222.0     4/24/05 00:00    7/1/60 00:00   \n",
       "2       BRO      GRN   508.0   160.0    12/11/97 00:00  10/25/95 00:00   \n",
       "3       GRY      HAZ   509.0   160.0     2/25/99 00:00    4/3/92 00:00   \n",
       "4       GRY      BLU   509.0   158.0     4/25/11 00:00   7/13/71 00:00   \n",
       "\n",
       "  releasedateflag_descr custody_description FACILITY_description  \n",
       "0    valid release date                 NaN       CENTRAL OFFICE  \n",
       "1              deceased               CLOSE            UNKNOWN-2  \n",
       "2    valid release date             MINIMUM   PANAMA CITY C.R.C.  \n",
       "3    valid release date              MEDIUM            LAKE C.I.  \n",
       "4    valid release date              MEDIUM            CFRC-MAIN  "
      ]
     },
     "execution_count": 10,
     "metadata": {},
     "output_type": "execute_result"
    }
   ],
   "source": [
    "# \"inmate_release_root.csv\" has 371,553 rows x 17 columns\n",
    "reviews = pd.read_csv(\"inmate_release_root.csv\", low_memory=False)\n",
    "\n",
    "# first 1000 inmates data\n",
    "first = reviews.iloc[0:10000,:]\n",
    "reviews.head()"
   ]
  },
  {
   "cell_type": "code",
   "execution_count": 4,
   "metadata": {},
   "outputs": [
    {
     "data": {
      "text/html": [
       "<div>\n",
       "<style>\n",
       "    .dataframe thead tr:only-child th {\n",
       "        text-align: right;\n",
       "    }\n",
       "\n",
       "    .dataframe thead th {\n",
       "        text-align: left;\n",
       "    }\n",
       "\n",
       "    .dataframe tbody tr th {\n",
       "        vertical-align: top;\n",
       "    }\n",
       "</style>\n",
       "<table border=\"1\" class=\"dataframe\">\n",
       "  <thead>\n",
       "    <tr style=\"text-align: right;\">\n",
       "      <th></th>\n",
       "      <th>0</th>\n",
       "      <th>1</th>\n",
       "      <th>2</th>\n",
       "      <th>3</th>\n",
       "      <th>4</th>\n",
       "      <th>5</th>\n",
       "      <th>6</th>\n",
       "      <th>7</th>\n",
       "      <th>8</th>\n",
       "      <th>9</th>\n",
       "      <th>...</th>\n",
       "      <th>9990</th>\n",
       "      <th>9991</th>\n",
       "      <th>9992</th>\n",
       "      <th>9993</th>\n",
       "      <th>9994</th>\n",
       "      <th>9995</th>\n",
       "      <th>9996</th>\n",
       "      <th>9997</th>\n",
       "      <th>9998</th>\n",
       "      <th>9999</th>\n",
       "    </tr>\n",
       "  </thead>\n",
       "  <tbody>\n",
       "    <tr>\n",
       "      <th>PrisonReleaseDate</th>\n",
       "      <td>3/20/07 00:00</td>\n",
       "      <td>4/24/05 00:00</td>\n",
       "      <td>12/11/97 00:00</td>\n",
       "      <td>2/25/99 00:00</td>\n",
       "      <td>4/25/11 00:00</td>\n",
       "      <td>12/9/14 00:00</td>\n",
       "      <td>10/30/06 00:00</td>\n",
       "      <td>5/6/01 00:00</td>\n",
       "      <td>8/10/08 00:00</td>\n",
       "      <td>6/27/13 00:00</td>\n",
       "      <td>...</td>\n",
       "      <td>2/19/98 00:00</td>\n",
       "      <td>11/30/08 00:00</td>\n",
       "      <td>8/17/13 00:00</td>\n",
       "      <td>4/29/05 00:00</td>\n",
       "      <td>1/31/17 00:00</td>\n",
       "      <td>11/9/10 00:00</td>\n",
       "      <td>12/23/15 00:00</td>\n",
       "      <td>7/31/01 00:00</td>\n",
       "      <td>5/22/98 00:00</td>\n",
       "      <td>12/22/12 00:00</td>\n",
       "    </tr>\n",
       "    <tr>\n",
       "      <th>ReceiptDate</th>\n",
       "      <td>10/31/55 00:00</td>\n",
       "      <td>7/1/60 00:00</td>\n",
       "      <td>10/25/95 00:00</td>\n",
       "      <td>4/3/92 00:00</td>\n",
       "      <td>7/13/71 00:00</td>\n",
       "      <td>8/17/82 00:00</td>\n",
       "      <td>4/19/05 00:00</td>\n",
       "      <td>3/8/00 00:00</td>\n",
       "      <td>4/24/96 00:00</td>\n",
       "      <td>8/21/75 00:00</td>\n",
       "      <td>...</td>\n",
       "      <td>2/21/91 00:00</td>\n",
       "      <td>9/26/91 00:00</td>\n",
       "      <td>8/19/09 00:00</td>\n",
       "      <td>3/9/04 00:00</td>\n",
       "      <td>1/31/17 00:00</td>\n",
       "      <td>6/11/81 00:00</td>\n",
       "      <td>12/9/99 00:00</td>\n",
       "      <td>6/12/81 00:00</td>\n",
       "      <td>5/17/90 00:00</td>\n",
       "      <td>3/15/12 00:00</td>\n",
       "    </tr>\n",
       "  </tbody>\n",
       "</table>\n",
       "<p>2 rows × 10000 columns</p>\n",
       "</div>"
      ],
      "text/plain": [
       "                             0              1               2     \\\n",
       "PrisonReleaseDate   3/20/07 00:00  4/24/05 00:00  12/11/97 00:00   \n",
       "ReceiptDate        10/31/55 00:00   7/1/60 00:00  10/25/95 00:00   \n",
       "\n",
       "                            3              4              5     \\\n",
       "PrisonReleaseDate  2/25/99 00:00  4/25/11 00:00  12/9/14 00:00   \n",
       "ReceiptDate         4/3/92 00:00  7/13/71 00:00  8/17/82 00:00   \n",
       "\n",
       "                             6             7              8              9     \\\n",
       "PrisonReleaseDate  10/30/06 00:00  5/6/01 00:00  8/10/08 00:00  6/27/13 00:00   \n",
       "ReceiptDate         4/19/05 00:00  3/8/00 00:00  4/24/96 00:00  8/21/75 00:00   \n",
       "\n",
       "                        ...                 9990            9991  \\\n",
       "PrisonReleaseDate       ...        2/19/98 00:00  11/30/08 00:00   \n",
       "ReceiptDate             ...        2/21/91 00:00   9/26/91 00:00   \n",
       "\n",
       "                            9992           9993           9994           9995  \\\n",
       "PrisonReleaseDate  8/17/13 00:00  4/29/05 00:00  1/31/17 00:00  11/9/10 00:00   \n",
       "ReceiptDate        8/19/09 00:00   3/9/04 00:00  1/31/17 00:00  6/11/81 00:00   \n",
       "\n",
       "                             9996           9997           9998  \\\n",
       "PrisonReleaseDate  12/23/15 00:00  7/31/01 00:00  5/22/98 00:00   \n",
       "ReceiptDate         12/9/99 00:00  6/12/81 00:00  5/17/90 00:00   \n",
       "\n",
       "                             9999  \n",
       "PrisonReleaseDate  12/22/12 00:00  \n",
       "ReceiptDate         3/15/12 00:00  \n",
       "\n",
       "[2 rows x 10000 columns]"
      ]
     },
     "execution_count": 4,
     "metadata": {},
     "output_type": "execute_result"
    }
   ],
   "source": [
    "pd.DataFrame([first[\"PrisonReleaseDate\"], first[\"ReceiptDate\"]])"
   ]
  },
  {
   "cell_type": "code",
   "execution_count": 5,
   "metadata": {},
   "outputs": [
    {
     "data": {
      "text/html": [
       "<iframe id=\"igraph\" scrolling=\"no\" style=\"border:none;\" seamless=\"seamless\" src=\"https://plot.ly/~bzjin/4.embed\" height=\"525px\" width=\"100%\"></iframe>"
      ],
      "text/plain": [
       "<plotly.tools.PlotlyDisplay object>"
      ]
     },
     "execution_count": 5,
     "metadata": {},
     "output_type": "execute_result"
    }
   ],
   "source": [
    "#Simple chart mapping eye color for learning-code purposes\n",
    "eyeSeries = pd.Series(first[\"EyeColor\"])\n",
    "eyeArray = np.array(eyeSeries, dtype=pd.Series)\n",
    "\n",
    "unique, counts = np.unique(eyeArray, return_counts=True)\n",
    "\n",
    "eyedata=[go.Bar(x=unique, y=counts)]\n",
    "py.iplot(eyedata, filename='basic-bar')"
   ]
  },
  {
   "cell_type": "code",
   "execution_count": 6,
   "metadata": {},
   "outputs": [
    {
     "data": {
      "text/html": [
       "<iframe id=\"igraph\" scrolling=\"no\" style=\"border:none;\" seamless=\"seamless\" src=\"https://plot.ly/~bzjin/4.embed\" height=\"525px\" width=\"100%\"></iframe>"
      ],
      "text/plain": [
       "<plotly.tools.PlotlyDisplay object>"
      ]
     },
     "execution_count": 6,
     "metadata": {},
     "output_type": "execute_result"
    }
   ],
   "source": [
    "#Simple chart mapping hair color for learning-code purposes\n",
    "hairSeries = pd.Series(first[\"HairColor\"])\n",
    "hairArray = np.array(hairSeries, dtype=pd.Series)\n",
    "\n",
    "unique, counts = np.unique(hairArray, return_counts=True)\n",
    "\n",
    "hairdata=[go.Bar(x=unique, y=counts)]\n",
    "py.iplot(hairdata, filename='basic-bar')"
   ]
  },
  {
   "cell_type": "code",
   "execution_count": 7,
   "metadata": {},
   "outputs": [
    {
     "data": {
      "text/html": [
       "<iframe id=\"igraph\" scrolling=\"no\" style=\"border:none;\" seamless=\"seamless\" src=\"https://plot.ly/~bzjin/4.embed\" height=\"525px\" width=\"100%\"></iframe>"
      ],
      "text/plain": [
       "<plotly.tools.PlotlyDisplay object>"
      ]
     },
     "execution_count": 7,
     "metadata": {},
     "output_type": "execute_result"
    }
   ],
   "source": [
    "#Release by year\n",
    "releaseSeries = pd.Series(first[\"PrisonReleaseDate\"])\n",
    "releaseSeries = pd.to_datetime(releaseSeries)\n",
    "counts = releaseSeries.groupby(releaseSeries.dt.strftime('%Y')).count().sort_values()\n",
    "monthyear = releaseSeries.groupby(releaseSeries.dt.strftime('%Y'))\n",
    "listMY = sorted(list(monthyear.groups.keys()))\n",
    "yearSort = []\n",
    "for x in listMY: \n",
    "    yearSort.append(counts[x])\n",
    "    \n",
    "data=[go.Bar(x=listMY, y=yearSort)]\n",
    "py.iplot(data, filename='basic-bar')"
   ]
  },
  {
   "cell_type": "code",
   "execution_count": 8,
   "metadata": {},
   "outputs": [
    {
     "data": {
      "text/html": [
       "<iframe id=\"igraph\" scrolling=\"no\" style=\"border:none;\" seamless=\"seamless\" src=\"https://plot.ly/~bzjin/4.embed\" height=\"525px\" width=\"100%\"></iframe>"
      ],
      "text/plain": [
       "<plotly.tools.PlotlyDisplay object>"
      ]
     },
     "execution_count": 8,
     "metadata": {},
     "output_type": "execute_result"
    }
   ],
   "source": [
    "#Release by months\n",
    "counts = releaseSeries.groupby(releaseSeries.dt.strftime('%B'), sort=False).count().sort_values()\n",
    "months = [\"January\", \"February\", \"March\", \"April\", \"May\", \"June\", \"July\", \"August\", \"September\", \"November\", \"December\"]\n",
    "monthCount = []\n",
    "for x in months:\n",
    "   monthCount.append(counts[x])\n",
    "\n",
    "data=[go.Bar(x=months, y=monthCount)]\n",
    "py.iplot(data, filename='basic-bar')"
   ]
  },
  {
   "cell_type": "code",
   "execution_count": 9,
   "metadata": {},
   "outputs": [
    {
     "name": "stdout",
     "output_type": "stream",
     "text": [
      "211\n"
     ]
    },
    {
     "data": {
      "text/html": [
       "<iframe id=\"igraph\" scrolling=\"no\" style=\"border:none;\" seamless=\"seamless\" src=\"https://plot.ly/~bzjin/4.embed\" height=\"525px\" width=\"100%\"></iframe>"
      ],
      "text/plain": [
       "<plotly.tools.PlotlyDisplay object>"
      ]
     },
     "execution_count": 9,
     "metadata": {},
     "output_type": "execute_result"
    }
   ],
   "source": [
    "#Simple chart mapping facility for learning-code purposes\n",
    "facSeries = pd.Series(first[\"FACILITY_description\"])\n",
    "facArray = np.array(facSeries, dtype=pd.Series)\n",
    "\n",
    "unique, counts = np.unique(facArray, return_counts=True)\n",
    "print(len(counts))\n",
    "\n",
    "facdata=[go.Bar(x=unique, y=counts)]\n",
    "py.iplot(facdata, filename='basic-bar')"
   ]
  },
  {
   "cell_type": "code",
   "execution_count": null,
   "metadata": {
    "collapsed": true
   },
   "outputs": [],
   "source": []
  }
 ],
 "metadata": {
  "kernelspec": {
   "display_name": "Python 3",
   "language": "python",
   "name": "python3"
  },
  "language_info": {
   "codemirror_mode": {
    "name": "ipython",
    "version": 3
   },
   "file_extension": ".py",
   "mimetype": "text/x-python",
   "name": "python",
   "nbconvert_exporter": "python",
   "pygments_lexer": "ipython3",
   "version": "3.6.2"
  }
 },
 "nbformat": 4,
 "nbformat_minor": 2
}
