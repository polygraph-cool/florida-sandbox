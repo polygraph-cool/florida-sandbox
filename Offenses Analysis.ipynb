{
 "cells": [
  {
   "cell_type": "code",
   "execution_count": 2,
   "metadata": {
    "collapsed": true
   },
   "outputs": [],
   "source": [
    "import pandas as pd\n",
    "import numpy as np\n",
    "import matplotlib as mpl\n",
    "from datetime import datetime\n",
    "import plotly\n",
    "plotly.tools.set_credentials_file(username='bzjin', api_key='jmaLQFWVMgugFAITZZBC')\n",
    "import plotly.plotly as py\n",
    "import plotly.graph_objs as go"
   ]
  },
  {
   "cell_type": "code",
   "execution_count": 8,
   "metadata": {},
   "outputs": [
    {
     "name": "stdout",
     "output_type": "stream",
     "text": [
      "(414617, 12)\n"
     ]
    },
    {
     "data": {
      "text/html": [
       "<div>\n",
       "<style>\n",
       "    .dataframe thead tr:only-child th {\n",
       "        text-align: right;\n",
       "    }\n",
       "\n",
       "    .dataframe thead th {\n",
       "        text-align: left;\n",
       "    }\n",
       "\n",
       "    .dataframe tbody tr th {\n",
       "        vertical-align: top;\n",
       "    }\n",
       "</style>\n",
       "<table border=\"1\" class=\"dataframe\">\n",
       "  <thead>\n",
       "    <tr style=\"text-align: right;\">\n",
       "      <th></th>\n",
       "      <th>DCNumber</th>\n",
       "      <th>Sequence</th>\n",
       "      <th>OffenseDate</th>\n",
       "      <th>DateAdjudicated</th>\n",
       "      <th>County</th>\n",
       "      <th>CaseNumber</th>\n",
       "      <th>OffenseTerm</th>\n",
       "      <th>ProbationTerm</th>\n",
       "      <th>ParoleTerm</th>\n",
       "      <th>adjudicationcharge_descr</th>\n",
       "      <th>qualifier_descr</th>\n",
       "      <th>adjudication_descr</th>\n",
       "    </tr>\n",
       "  </thead>\n",
       "  <tbody>\n",
       "    <tr>\n",
       "      <th>0</th>\n",
       "      <td>69177</td>\n",
       "      <td>1</td>\n",
       "      <td>03/16/60 00:00:00</td>\n",
       "      <td>03/16/60 00:00:00</td>\n",
       "      <td>MIAMI-DADE</td>\n",
       "      <td>NaN</td>\n",
       "      <td>9999998</td>\n",
       "      <td>0</td>\n",
       "      <td>9999998</td>\n",
       "      <td>2ND DEG.MURD,DANGEROUS ACT</td>\n",
       "      <td>UNKNOWN</td>\n",
       "      <td>ADJUDICATION NOT WITHHELD</td>\n",
       "    </tr>\n",
       "    <tr>\n",
       "      <th>1</th>\n",
       "      <td>000004</td>\n",
       "      <td>1</td>\n",
       "      <td>06/29/11 00:00:00</td>\n",
       "      <td>04/11/12 00:00:00</td>\n",
       "      <td>HOLMES</td>\n",
       "      <td>1100163.0</td>\n",
       "      <td>0</td>\n",
       "      <td>20000</td>\n",
       "      <td>0</td>\n",
       "      <td>POSSESS METHAMPHETAMINE</td>\n",
       "      <td>PRINCIPAL</td>\n",
       "      <td>ADJUDICATION NOT WITHHELD</td>\n",
       "    </tr>\n",
       "    <tr>\n",
       "      <th>2</th>\n",
       "      <td>000004</td>\n",
       "      <td>2</td>\n",
       "      <td>06/29/11 00:00:00</td>\n",
       "      <td>04/11/12 00:00:00</td>\n",
       "      <td>HOLMES</td>\n",
       "      <td>1100163.0</td>\n",
       "      <td>0</td>\n",
       "      <td>30000</td>\n",
       "      <td>0</td>\n",
       "      <td>POSSESS METHAMPHETAMINE</td>\n",
       "      <td>PRINCIPAL</td>\n",
       "      <td>ADJUDICATION NOT WITHHELD</td>\n",
       "    </tr>\n",
       "    <tr>\n",
       "      <th>3</th>\n",
       "      <td>000741</td>\n",
       "      <td>1</td>\n",
       "      <td>09/29/60 00:00:00</td>\n",
       "      <td>09/30/60 00:00:00</td>\n",
       "      <td>HIGHLANDS</td>\n",
       "      <td>2133.0</td>\n",
       "      <td>9999998</td>\n",
       "      <td>0</td>\n",
       "      <td>9999998</td>\n",
       "      <td>1ST DG MUR/PREMED. OR ATT.</td>\n",
       "      <td>PRINCIPAL</td>\n",
       "      <td>ADJUDICATION NOT WITHHELD</td>\n",
       "    </tr>\n",
       "    <tr>\n",
       "      <th>4</th>\n",
       "      <td>000741</td>\n",
       "      <td>2</td>\n",
       "      <td>11/20/64 00:00:00</td>\n",
       "      <td>05/25/65 00:00:00</td>\n",
       "      <td>ORANGE</td>\n",
       "      <td>98097.0</td>\n",
       "      <td>50000</td>\n",
       "      <td>0</td>\n",
       "      <td>9999809</td>\n",
       "      <td>AGG ASSLT-W/WPN NO INTENT TO K</td>\n",
       "      <td>PRINCIPAL</td>\n",
       "      <td>ADJUDICATION NOT WITHHELD</td>\n",
       "    </tr>\n",
       "  </tbody>\n",
       "</table>\n",
       "</div>"
      ],
      "text/plain": [
       "  DCNumber  Sequence        OffenseDate    DateAdjudicated      County  \\\n",
       "0    69177         1  03/16/60 00:00:00  03/16/60 00:00:00  MIAMI-DADE   \n",
       "1   000004         1  06/29/11 00:00:00  04/11/12 00:00:00      HOLMES   \n",
       "2   000004         2  06/29/11 00:00:00  04/11/12 00:00:00      HOLMES   \n",
       "3   000741         1  09/29/60 00:00:00  09/30/60 00:00:00   HIGHLANDS   \n",
       "4   000741         2  11/20/64 00:00:00  05/25/65 00:00:00      ORANGE   \n",
       "\n",
       "   CaseNumber  OffenseTerm  ProbationTerm  ParoleTerm  \\\n",
       "0         NaN      9999998              0     9999998   \n",
       "1   1100163.0            0          20000           0   \n",
       "2   1100163.0            0          30000           0   \n",
       "3      2133.0      9999998              0     9999998   \n",
       "4     98097.0        50000              0     9999809   \n",
       "\n",
       "         adjudicationcharge_descr qualifier_descr         adjudication_descr  \n",
       "0      2ND DEG.MURD,DANGEROUS ACT         UNKNOWN  ADJUDICATION NOT WITHHELD  \n",
       "1         POSSESS METHAMPHETAMINE       PRINCIPAL  ADJUDICATION NOT WITHHELD  \n",
       "2         POSSESS METHAMPHETAMINE       PRINCIPAL  ADJUDICATION NOT WITHHELD  \n",
       "3      1ST DG MUR/PREMED. OR ATT.       PRINCIPAL  ADJUDICATION NOT WITHHELD  \n",
       "4  AGG ASSLT-W/WPN NO INTENT TO K       PRINCIPAL  ADJUDICATION NOT WITHHELD  "
      ]
     },
     "execution_count": 8,
     "metadata": {},
     "output_type": "execute_result"
    }
   ],
   "source": [
    "# \"offender_offenses_ccs.csv\" has 414,617 rows x 17 columns\n",
    "reviews = pd.read_csv(\"offender_offenses_ccs.csv\")\n",
    "first = reviews.iloc[0:10000,:]\n",
    "reviews.head()"
   ]
  },
  {
   "cell_type": "code",
   "execution_count": 9,
   "metadata": {},
   "outputs": [
    {
     "name": "stdout",
     "output_type": "stream",
     "text": [
      "(378265, 12)\n"
     ]
    },
    {
     "name": "stderr",
     "output_type": "stream",
     "text": [
      "/Users/bzjin/anaconda3/lib/python3.6/site-packages/IPython/core/interactiveshell.py:2698: DtypeWarning:\n",
      "\n",
      "Columns (0) have mixed types. Specify dtype option on import or set low_memory=False.\n",
      "\n"
     ]
    },
    {
     "data": {
      "text/html": [
       "<div>\n",
       "<style>\n",
       "    .dataframe thead tr:only-child th {\n",
       "        text-align: right;\n",
       "    }\n",
       "\n",
       "    .dataframe thead th {\n",
       "        text-align: left;\n",
       "    }\n",
       "\n",
       "    .dataframe tbody tr th {\n",
       "        vertical-align: top;\n",
       "    }\n",
       "</style>\n",
       "<table border=\"1\" class=\"dataframe\">\n",
       "  <thead>\n",
       "    <tr style=\"text-align: right;\">\n",
       "      <th></th>\n",
       "      <th>DCNumber</th>\n",
       "      <th>Sequence</th>\n",
       "      <th>OffenseDate</th>\n",
       "      <th>DateAdjudicated</th>\n",
       "      <th>County</th>\n",
       "      <th>CaseNumber</th>\n",
       "      <th>prisonterm</th>\n",
       "      <th>ProbationTerm</th>\n",
       "      <th>ParoleTerm</th>\n",
       "      <th>adjudicationcharge_descr</th>\n",
       "      <th>qualifier_descr</th>\n",
       "      <th>adjudication_descr</th>\n",
       "    </tr>\n",
       "  </thead>\n",
       "  <tbody>\n",
       "    <tr>\n",
       "      <th>0</th>\n",
       "      <td>84</td>\n",
       "      <td>1</td>\n",
       "      <td>01/27/76 00:00:00</td>\n",
       "      <td>10/08/76 00:00:00</td>\n",
       "      <td>DUVAL</td>\n",
       "      <td>7600296.0</td>\n",
       "      <td>9999998</td>\n",
       "      <td>0</td>\n",
       "      <td>0</td>\n",
       "      <td>1ST DG MUR/PREMED. OR ATT.</td>\n",
       "      <td>PRINCIPAL</td>\n",
       "      <td>ADJUDICATION NOT WITHHELD</td>\n",
       "    </tr>\n",
       "    <tr>\n",
       "      <th>1</th>\n",
       "      <td>256</td>\n",
       "      <td>1</td>\n",
       "      <td>01/29/71 00:00:00</td>\n",
       "      <td>10/12/71 00:00:00</td>\n",
       "      <td>LEON</td>\n",
       "      <td>6528.0</td>\n",
       "      <td>9999998</td>\n",
       "      <td>0</td>\n",
       "      <td>9999998</td>\n",
       "      <td>1ST DG MUR/PREMED. OR ATT.</td>\n",
       "      <td>PRINCIPAL</td>\n",
       "      <td>ADJUDICATION NOT WITHHELD</td>\n",
       "    </tr>\n",
       "    <tr>\n",
       "      <th>2</th>\n",
       "      <td>256</td>\n",
       "      <td>2</td>\n",
       "      <td>08/17/90 00:00:00</td>\n",
       "      <td>12/21/90 00:00:00</td>\n",
       "      <td>LEON</td>\n",
       "      <td>9003492.0</td>\n",
       "      <td>70000</td>\n",
       "      <td>0</td>\n",
       "      <td>0</td>\n",
       "      <td>BURGUNOCCSTRUC/CV OR ATT.</td>\n",
       "      <td>PRINCIPAL</td>\n",
       "      <td>ADJUDICATION NOT WITHHELD</td>\n",
       "    </tr>\n",
       "    <tr>\n",
       "      <th>3</th>\n",
       "      <td>316</td>\n",
       "      <td>1</td>\n",
       "      <td>10/15/59 00:00:00</td>\n",
       "      <td>12/04/59 00:00:00</td>\n",
       "      <td>MIAMI-DADE</td>\n",
       "      <td>5905444.0</td>\n",
       "      <td>150000</td>\n",
       "      <td>0</td>\n",
       "      <td>0</td>\n",
       "      <td>ROBBERY</td>\n",
       "      <td>PRINCIPAL</td>\n",
       "      <td>ADJUDICATION NOT WITHHELD</td>\n",
       "    </tr>\n",
       "    <tr>\n",
       "      <th>4</th>\n",
       "      <td>316</td>\n",
       "      <td>2</td>\n",
       "      <td>01/15/62 00:00:00</td>\n",
       "      <td>02/02/62 00:00:00</td>\n",
       "      <td>BROWARD</td>\n",
       "      <td>6236552.0</td>\n",
       "      <td>20000</td>\n",
       "      <td>0</td>\n",
       "      <td>0</td>\n",
       "      <td>BURGUNOCCSTRUC/CV OR ATT.</td>\n",
       "      <td>PRINCIPAL IN ATTEMPT</td>\n",
       "      <td>ADJUDICATION NOT WITHHELD</td>\n",
       "    </tr>\n",
       "  </tbody>\n",
       "</table>\n",
       "</div>"
      ],
      "text/plain": [
       "  DCNumber  Sequence        OffenseDate    DateAdjudicated      County  \\\n",
       "0       84         1  01/27/76 00:00:00  10/08/76 00:00:00       DUVAL   \n",
       "1      256         1  01/29/71 00:00:00  10/12/71 00:00:00        LEON   \n",
       "2      256         2  08/17/90 00:00:00  12/21/90 00:00:00        LEON   \n",
       "3      316         1  10/15/59 00:00:00  12/04/59 00:00:00  MIAMI-DADE   \n",
       "4      316         2  01/15/62 00:00:00  02/02/62 00:00:00     BROWARD   \n",
       "\n",
       "   CaseNumber  prisonterm  ProbationTerm  ParoleTerm  \\\n",
       "0   7600296.0     9999998              0           0   \n",
       "1      6528.0     9999998              0     9999998   \n",
       "2   9003492.0       70000              0           0   \n",
       "3   5905444.0      150000              0           0   \n",
       "4   6236552.0       20000              0           0   \n",
       "\n",
       "     adjudicationcharge_descr       qualifier_descr         adjudication_descr  \n",
       "0  1ST DG MUR/PREMED. OR ATT.             PRINCIPAL  ADJUDICATION NOT WITHHELD  \n",
       "1  1ST DG MUR/PREMED. OR ATT.             PRINCIPAL  ADJUDICATION NOT WITHHELD  \n",
       "2   BURGUNOCCSTRUC/CV OR ATT.             PRINCIPAL  ADJUDICATION NOT WITHHELD  \n",
       "3                     ROBBERY             PRINCIPAL  ADJUDICATION NOT WITHHELD  \n",
       "4   BURGUNOCCSTRUC/CV OR ATT.  PRINCIPAL IN ATTEMPT  ADJUDICATION NOT WITHHELD  "
      ]
     },
     "execution_count": 9,
     "metadata": {},
     "output_type": "execute_result"
    }
   ],
   "source": [
    "# \"inmate_active_offenses.csv\" has 378l rows x 17 columns\n",
    "reviews = pd.read_csv(\"inmate_active_offenses_cps.csv\")\n",
    "reviews.head()"
   ]
  },
  {
   "cell_type": "code",
   "execution_count": 5,
   "metadata": {},
   "outputs": [
    {
     "data": {
      "text/html": [
       "<iframe id=\"igraph\" scrolling=\"no\" style=\"border:none;\" seamless=\"seamless\" src=\"https://plot.ly/~bzjin/4.embed\" height=\"525px\" width=\"100%\"></iframe>"
      ],
      "text/plain": [
       "<plotly.tools.PlotlyDisplay object>"
      ]
     },
     "execution_count": 5,
     "metadata": {},
     "output_type": "execute_result"
    }
   ],
   "source": []
  },
  {
   "cell_type": "code",
   "execution_count": 6,
   "metadata": {},
   "outputs": [
    {
     "data": {
      "text/html": [
       "<iframe id=\"igraph\" scrolling=\"no\" style=\"border:none;\" seamless=\"seamless\" src=\"https://plot.ly/~bzjin/4.embed\" height=\"525px\" width=\"100%\"></iframe>"
      ],
      "text/plain": [
       "<plotly.tools.PlotlyDisplay object>"
      ]
     },
     "execution_count": 6,
     "metadata": {},
     "output_type": "execute_result"
    }
   ],
   "source": []
  },
  {
   "cell_type": "code",
   "execution_count": 7,
   "metadata": {},
   "outputs": [
    {
     "data": {
      "text/html": [
       "<iframe id=\"igraph\" scrolling=\"no\" style=\"border:none;\" seamless=\"seamless\" src=\"https://plot.ly/~bzjin/4.embed\" height=\"525px\" width=\"100%\"></iframe>"
      ],
      "text/plain": [
       "<plotly.tools.PlotlyDisplay object>"
      ]
     },
     "execution_count": 7,
     "metadata": {},
     "output_type": "execute_result"
    }
   ],
   "source": []
  },
  {
   "cell_type": "code",
   "execution_count": 8,
   "metadata": {},
   "outputs": [
    {
     "data": {
      "text/html": [
       "<iframe id=\"igraph\" scrolling=\"no\" style=\"border:none;\" seamless=\"seamless\" src=\"https://plot.ly/~bzjin/4.embed\" height=\"525px\" width=\"100%\"></iframe>"
      ],
      "text/plain": [
       "<plotly.tools.PlotlyDisplay object>"
      ]
     },
     "execution_count": 8,
     "metadata": {},
     "output_type": "execute_result"
    }
   ],
   "source": []
  },
  {
   "cell_type": "code",
   "execution_count": 9,
   "metadata": {},
   "outputs": [
    {
     "name": "stdout",
     "output_type": "stream",
     "text": [
      "211\n"
     ]
    },
    {
     "data": {
      "text/html": [
       "<iframe id=\"igraph\" scrolling=\"no\" style=\"border:none;\" seamless=\"seamless\" src=\"https://plot.ly/~bzjin/4.embed\" height=\"525px\" width=\"100%\"></iframe>"
      ],
      "text/plain": [
       "<plotly.tools.PlotlyDisplay object>"
      ]
     },
     "execution_count": 9,
     "metadata": {},
     "output_type": "execute_result"
    }
   ],
   "source": []
  },
  {
   "cell_type": "code",
   "execution_count": null,
   "metadata": {
    "collapsed": true
   },
   "outputs": [],
   "source": []
  }
 ],
 "metadata": {
  "kernelspec": {
   "display_name": "Python 3",
   "language": "python",
   "name": "python3"
  },
  "language_info": {
   "codemirror_mode": {
    "name": "ipython",
    "version": 3
   },
   "file_extension": ".py",
   "mimetype": "text/x-python",
   "name": "python",
   "nbconvert_exporter": "python",
   "pygments_lexer": "ipython3",
   "version": "3.6.2"
  }
 },
 "nbformat": 4,
 "nbformat_minor": 2
}
