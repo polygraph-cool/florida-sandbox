{
 "cells": [
  {
   "cell_type": "code",
   "execution_count": 113,
   "metadata": {
    "collapsed": true
   },
   "outputs": [],
   "source": [
    "import pandas as pd\n",
    "import numpy as np\n",
    "import matplotlib as mpl\n",
    "from datetime import datetime\n",
    "import plotly\n",
    "plotly.tools.set_credentials_file(username='bzjin', api_key='jmaLQFWVMgugFAITZZBC')\n",
    "import plotly.plotly as py\n",
    "import plotly.graph_objs as go\n"
   ]
  },
  {
   "cell_type": "code",
   "execution_count": 118,
   "metadata": {},
   "outputs": [
    {
     "data": {
      "text/html": [
       "<div>\n",
       "<style>\n",
       "    .dataframe thead tr:only-child th {\n",
       "        text-align: right;\n",
       "    }\n",
       "\n",
       "    .dataframe thead th {\n",
       "        text-align: left;\n",
       "    }\n",
       "\n",
       "    .dataframe tbody tr th {\n",
       "        vertical-align: top;\n",
       "    }\n",
       "</style>\n",
       "<table border=\"1\" class=\"dataframe\">\n",
       "  <thead>\n",
       "    <tr style=\"text-align: right;\">\n",
       "      <th></th>\n",
       "      <th>DCNumber</th>\n",
       "      <th>Sequence</th>\n",
       "      <th>OffenseDate</th>\n",
       "      <th>DateAdjudicated</th>\n",
       "      <th>County</th>\n",
       "      <th>CaseNumber</th>\n",
       "      <th>OffenseTerm</th>\n",
       "      <th>ProbationTerm</th>\n",
       "      <th>ParoleTerm</th>\n",
       "      <th>adjudicationcharge_descr</th>\n",
       "      <th>qualifier_descr</th>\n",
       "      <th>adjudication_descr</th>\n",
       "    </tr>\n",
       "  </thead>\n",
       "  <tbody>\n",
       "    <tr>\n",
       "      <th>0</th>\n",
       "      <td>69177</td>\n",
       "      <td>1</td>\n",
       "      <td>03/16/60 00:00:00</td>\n",
       "      <td>03/16/60 00:00:00</td>\n",
       "      <td>MIAMI-DADE</td>\n",
       "      <td>NaN</td>\n",
       "      <td>9999998</td>\n",
       "      <td>0</td>\n",
       "      <td>9999998</td>\n",
       "      <td>2ND DEG.MURD,DANGEROUS ACT</td>\n",
       "      <td>UNKNOWN</td>\n",
       "      <td>ADJUDICATION NOT WITHHELD</td>\n",
       "    </tr>\n",
       "    <tr>\n",
       "      <th>1</th>\n",
       "      <td>000004</td>\n",
       "      <td>1</td>\n",
       "      <td>06/29/11 00:00:00</td>\n",
       "      <td>04/11/12 00:00:00</td>\n",
       "      <td>HOLMES</td>\n",
       "      <td>1100163.0</td>\n",
       "      <td>0</td>\n",
       "      <td>20000</td>\n",
       "      <td>0</td>\n",
       "      <td>POSSESS METHAMPHETAMINE</td>\n",
       "      <td>PRINCIPAL</td>\n",
       "      <td>ADJUDICATION NOT WITHHELD</td>\n",
       "    </tr>\n",
       "    <tr>\n",
       "      <th>2</th>\n",
       "      <td>000004</td>\n",
       "      <td>2</td>\n",
       "      <td>06/29/11 00:00:00</td>\n",
       "      <td>04/11/12 00:00:00</td>\n",
       "      <td>HOLMES</td>\n",
       "      <td>1100163.0</td>\n",
       "      <td>0</td>\n",
       "      <td>30000</td>\n",
       "      <td>0</td>\n",
       "      <td>POSSESS METHAMPHETAMINE</td>\n",
       "      <td>PRINCIPAL</td>\n",
       "      <td>ADJUDICATION NOT WITHHELD</td>\n",
       "    </tr>\n",
       "    <tr>\n",
       "      <th>3</th>\n",
       "      <td>000741</td>\n",
       "      <td>1</td>\n",
       "      <td>09/29/60 00:00:00</td>\n",
       "      <td>09/30/60 00:00:00</td>\n",
       "      <td>HIGHLANDS</td>\n",
       "      <td>2133.0</td>\n",
       "      <td>9999998</td>\n",
       "      <td>0</td>\n",
       "      <td>9999998</td>\n",
       "      <td>1ST DG MUR/PREMED. OR ATT.</td>\n",
       "      <td>PRINCIPAL</td>\n",
       "      <td>ADJUDICATION NOT WITHHELD</td>\n",
       "    </tr>\n",
       "    <tr>\n",
       "      <th>4</th>\n",
       "      <td>000741</td>\n",
       "      <td>2</td>\n",
       "      <td>11/20/64 00:00:00</td>\n",
       "      <td>05/25/65 00:00:00</td>\n",
       "      <td>ORANGE</td>\n",
       "      <td>98097.0</td>\n",
       "      <td>50000</td>\n",
       "      <td>0</td>\n",
       "      <td>9999809</td>\n",
       "      <td>AGG ASSLT-W/WPN NO INTENT TO K</td>\n",
       "      <td>PRINCIPAL</td>\n",
       "      <td>ADJUDICATION NOT WITHHELD</td>\n",
       "    </tr>\n",
       "  </tbody>\n",
       "</table>\n",
       "</div>"
      ],
      "text/plain": [
       "  DCNumber  Sequence        OffenseDate    DateAdjudicated      County  \\\n",
       "0    69177         1  03/16/60 00:00:00  03/16/60 00:00:00  MIAMI-DADE   \n",
       "1   000004         1  06/29/11 00:00:00  04/11/12 00:00:00      HOLMES   \n",
       "2   000004         2  06/29/11 00:00:00  04/11/12 00:00:00      HOLMES   \n",
       "3   000741         1  09/29/60 00:00:00  09/30/60 00:00:00   HIGHLANDS   \n",
       "4   000741         2  11/20/64 00:00:00  05/25/65 00:00:00      ORANGE   \n",
       "\n",
       "   CaseNumber  OffenseTerm  ProbationTerm  ParoleTerm  \\\n",
       "0         NaN      9999998              0     9999998   \n",
       "1   1100163.0            0          20000           0   \n",
       "2   1100163.0            0          30000           0   \n",
       "3      2133.0      9999998              0     9999998   \n",
       "4     98097.0        50000              0     9999809   \n",
       "\n",
       "         adjudicationcharge_descr qualifier_descr         adjudication_descr  \n",
       "0      2ND DEG.MURD,DANGEROUS ACT         UNKNOWN  ADJUDICATION NOT WITHHELD  \n",
       "1         POSSESS METHAMPHETAMINE       PRINCIPAL  ADJUDICATION NOT WITHHELD  \n",
       "2         POSSESS METHAMPHETAMINE       PRINCIPAL  ADJUDICATION NOT WITHHELD  \n",
       "3      1ST DG MUR/PREMED. OR ATT.       PRINCIPAL  ADJUDICATION NOT WITHHELD  \n",
       "4  AGG ASSLT-W/WPN NO INTENT TO K       PRINCIPAL  ADJUDICATION NOT WITHHELD  "
      ]
     },
     "execution_count": 118,
     "metadata": {},
     "output_type": "execute_result"
    }
   ],
   "source": [
    "# \"offender_offenses_ccs.csv\" has 414,617 rows x 17 columns\n",
    "offenses = pd.read_csv(\"offender_offenses_ccs.csv\")\n",
    "first = offenses.iloc[0:100000,:]\n",
    "first.head()"
   ]
  },
  {
   "cell_type": "code",
   "execution_count": 119,
   "metadata": {
    "collapsed": true
   },
   "outputs": [],
   "source": [
    "#Charges\n",
    "chargeSeries = pd.Series(first[\"adjudicationcharge_descr\"])\n",
    "chargeArray = np.array(chargeSeries, dtype=pd.Series)\n",
    "\n",
    "unique, counts = np.unique(chargeArray, return_counts=True)\n",
    "\n",
    "d = {}\n",
    "for x in unique:\n",
    "    d[x] = counts[np.where(unique==x)][0]\n"
   ]
  },
  {
   "cell_type": "code",
   "execution_count": 132,
   "metadata": {},
   "outputs": [
    {
     "data": {
      "text/html": [
       "<div>\n",
       "<style>\n",
       "    .dataframe thead tr:only-child th {\n",
       "        text-align: right;\n",
       "    }\n",
       "\n",
       "    .dataframe thead th {\n",
       "        text-align: left;\n",
       "    }\n",
       "\n",
       "    .dataframe tbody tr th {\n",
       "        vertical-align: top;\n",
       "    }\n",
       "</style>\n",
       "<table border=\"1\" class=\"dataframe\">\n",
       "  <thead>\n",
       "    <tr style=\"text-align: right;\">\n",
       "      <th></th>\n",
       "      <th>code</th>\n",
       "      <th>name</th>\n",
       "      <th>category</th>\n",
       "    </tr>\n",
       "  </thead>\n",
       "  <tbody>\n",
       "    <tr>\n",
       "      <th>0</th>\n",
       "      <td>1350</td>\n",
       "      <td>3+ BATTERY</td>\n",
       "      <td>Assault and Battery</td>\n",
       "    </tr>\n",
       "    <tr>\n",
       "      <th>1</th>\n",
       "      <td>3840</td>\n",
       "      <td>ABUSE ELDER/DISABLD</td>\n",
       "      <td>Assault and Battery</td>\n",
       "    </tr>\n",
       "    <tr>\n",
       "      <th>2</th>\n",
       "      <td>3841</td>\n",
       "      <td>ABUSE ELDER/DISBLD-HARM</td>\n",
       "      <td>Assault and Battery</td>\n",
       "    </tr>\n",
       "    <tr>\n",
       "      <th>3</th>\n",
       "      <td>1318</td>\n",
       "      <td>AGG ASSLT-INTENT COMMIT FELONY</td>\n",
       "      <td>Assault and Battery</td>\n",
       "    </tr>\n",
       "    <tr>\n",
       "      <th>4</th>\n",
       "      <td>1317</td>\n",
       "      <td>AGG ASSLT-W/WPN NO INTENT TO K</td>\n",
       "      <td>Assault and Battery</td>\n",
       "    </tr>\n",
       "  </tbody>\n",
       "</table>\n",
       "</div>"
      ],
      "text/plain": [
       "   code                            name             category\n",
       "0  1350                      3+ BATTERY  Assault and Battery\n",
       "1  3840             ABUSE ELDER/DISABLD  Assault and Battery\n",
       "2  3841         ABUSE ELDER/DISBLD-HARM  Assault and Battery\n",
       "3  1318  AGG ASSLT-INTENT COMMIT FELONY  Assault and Battery\n",
       "4  1317  AGG ASSLT-W/WPN NO INTENT TO K  Assault and Battery"
      ]
     },
     "execution_count": 132,
     "metadata": {},
     "output_type": "execute_result"
    }
   ],
   "source": [
    "# Offense classifications from http://www.dc.state.fl.us/OffenderSearch/offensecategory.aspx#ED\n",
    "classifications = pd.read_csv(\"offense_classifications.csv\", low_memory=False)\n",
    "classifications.head()"
   ]
  },
  {
   "cell_type": "code",
   "execution_count": 133,
   "metadata": {},
   "outputs": [
    {
     "name": "stdout",
     "output_type": "stream",
     "text": [
      "Missing count:  0\n",
      "[]\n"
     ]
    }
   ],
   "source": [
    "#This groups the types of ALL offenses together. An array stores those offenses that have not been accounted for or labelled yet. \n",
    "class_dict = {}\n",
    "\n",
    "cate_Series = pd.Series(classifications[\"category\"])\n",
    "cate_Array = np.array(cate_Series, dtype=pd.Series)\n",
    "unique, counts = np.unique(cate_Array, return_counts=True)\n",
    "\n",
    "names = np.array(classifications[\"name\"], dtype=pd.Series)\n",
    "\n",
    "for x in unique:\n",
    "    class_dict[x] = 0\n",
    "\n",
    "missing_count = []\n",
    "for x in list(d.keys()):\n",
    "    if x in names:\n",
    "        index = np.where(names == x)[0][0]\n",
    "        category = classifications[\"category\"][index]\n",
    "        class_dict[category] = class_dict[category] + d[x]\n",
    "    else: \n",
    "        missing_count.append(x)\n",
    "    \n",
    "print(\"Missing count: \", len(missing_count))\n",
    "print(missing_count)"
   ]
  },
  {
   "cell_type": "code",
   "execution_count": 131,
   "metadata": {},
   "outputs": [
    {
     "data": {
      "text/html": [
       "<iframe id=\"igraph\" scrolling=\"no\" style=\"border:none;\" seamless=\"seamless\" src=\"https://plot.ly/~bzjin/4.embed\" height=\"525px\" width=\"100%\"></iframe>"
      ],
      "text/plain": [
       "<plotly.tools.PlotlyDisplay object>"
      ]
     },
     "execution_count": 131,
     "metadata": {},
     "output_type": "execute_result"
    }
   ],
   "source": [
    "list_offenses = list(class_dict.keys())\n",
    "list_counts = list(class_dict.values())\n",
    "\n",
    "offenses_data=[go.Bar(x=list_offenses, y=list_counts)]\n",
    "py.iplot(offenses_data, filename='basic-bar')"
   ]
  },
  {
   "cell_type": "code",
   "execution_count": null,
   "metadata": {
    "collapsed": true
   },
   "outputs": [],
   "source": []
  },
  {
   "cell_type": "code",
   "execution_count": null,
   "metadata": {
    "collapsed": true
   },
   "outputs": [],
   "source": []
  },
  {
   "cell_type": "code",
   "execution_count": null,
   "metadata": {
    "collapsed": true
   },
   "outputs": [],
   "source": []
  },
  {
   "cell_type": "code",
   "execution_count": null,
   "metadata": {
    "collapsed": true
   },
   "outputs": [],
   "source": []
  },
  {
   "cell_type": "code",
   "execution_count": null,
   "metadata": {
    "collapsed": true
   },
   "outputs": [],
   "source": []
  }
 ],
 "metadata": {
  "kernelspec": {
   "display_name": "Python 3",
   "language": "python",
   "name": "python3"
  },
  "language_info": {
   "codemirror_mode": {
    "name": "ipython",
    "version": 3
   },
   "file_extension": ".py",
   "mimetype": "text/x-python",
   "name": "python",
   "nbconvert_exporter": "python",
   "pygments_lexer": "ipython3",
   "version": "3.6.2"
  }
 },
 "nbformat": 4,
 "nbformat_minor": 2
}
